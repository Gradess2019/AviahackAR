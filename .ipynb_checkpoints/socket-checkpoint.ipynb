{
 "cells": [
  {
   "cell_type": "code",
   "execution_count": 1,
   "metadata": {},
   "outputs": [
    {
     "name": "stderr",
     "output_type": "stream",
     "text": [
      "Exception in thread Thread-6:\n",
      "Traceback (most recent call last):\n",
      "  File \"d:\\python\\lib\\threading.py\", line 917, in _bootstrap_inner\n",
      "    self.run()\n",
      "  File \"d:\\python\\lib\\threading.py\", line 865, in run\n",
      "    self._target(*self._args, **self._kwargs)\n",
      "  File \"<ipython-input-1-3e54dc8f327a>\", line 16, in recv_serial\n",
      "    ser = serial.Serial(port=port, baudrate=115200)\n",
      "AttributeError: module 'serial' has no attribute 'Serial'\n",
      "\n"
     ]
    },
    {
     "ename": "KeyboardInterrupt",
     "evalue": "",
     "output_type": "error",
     "traceback": [
      "\u001b[1;31m---------------------------------------------------------------------------\u001b[0m",
      "\u001b[1;31mKeyboardInterrupt\u001b[0m                         Traceback (most recent call last)",
      "\u001b[1;32m<ipython-input-1-3e54dc8f327a>\u001b[0m in \u001b[0;36m<module>\u001b[1;34m\u001b[0m\n\u001b[0;32m     54\u001b[0m \u001b[1;33m\u001b[0m\u001b[0m\n\u001b[0;32m     55\u001b[0m \u001b[1;32mwhile\u001b[0m \u001b[1;32mTrue\u001b[0m\u001b[1;33m:\u001b[0m\u001b[1;33m\u001b[0m\u001b[1;33m\u001b[0m\u001b[0m\n\u001b[1;32m---> 56\u001b[1;33m     \u001b[1;32mif\u001b[0m \u001b[1;32mnot\u001b[0m \u001b[0mlen\u001b[0m\u001b[1;33m(\u001b[0m\u001b[0mDATA\u001b[0m\u001b[1;33m)\u001b[0m \u001b[1;33m==\u001b[0m \u001b[1;36m0\u001b[0m\u001b[1;33m:\u001b[0m\u001b[1;33m\u001b[0m\u001b[1;33m\u001b[0m\u001b[0m\n\u001b[0m\u001b[0;32m     57\u001b[0m         \u001b[0mdata\u001b[0m \u001b[1;33m=\u001b[0m \u001b[0mDATA\u001b[0m\u001b[1;33m.\u001b[0m\u001b[0mpop\u001b[0m\u001b[1;33m(\u001b[0m\u001b[1;36m0\u001b[0m\u001b[1;33m)\u001b[0m\u001b[1;33m\u001b[0m\u001b[1;33m\u001b[0m\u001b[0m\n\u001b[0;32m     58\u001b[0m         \u001b[1;32mdel\u001b[0m \u001b[0mDATA\u001b[0m\u001b[1;33m[\u001b[0m\u001b[1;33m:\u001b[0m\u001b[1;33m]\u001b[0m\u001b[1;33m\u001b[0m\u001b[1;33m\u001b[0m\u001b[0m\n",
      "\u001b[1;31mKeyboardInterrupt\u001b[0m: "
     ]
    }
   ],
   "source": [
    "import serial\n",
    "import socket\n",
    "from threading import Thread\n",
    "\n",
    "import struct\n",
    "\n",
    "sock = socket.socket(socket.AF_INET,socket.SOCK_STREAM);\n",
    "sock.bind(('localhost', 5000))\n",
    "sock.listen(1)\n",
    "\n",
    "conn, addr = sock.accept()\n",
    "\n",
    "DATA = []\n",
    "\n",
    "def recv_serial(port):\n",
    "    ser = serial.Serial(port=port, baudrate=115200)\n",
    "\n",
    "    while True:\n",
    "        b = ser.read()\n",
    "        if b[0] == 0:\n",
    "            break\n",
    "    print(\"zero recieved\")\n",
    "    count = 0\n",
    "    while True:\n",
    "        bytes_read = ser.read(323)\n",
    "        MSB = []\n",
    "        LSB = []\n",
    "        checksum = 0x00\n",
    "        checksumfromb = 0x00\n",
    "        for i, b in enumerate(bytes_read):\n",
    "            if i == 0:\n",
    "                LSB1 = b\n",
    "                checksum += int(b)\n",
    "            elif i == 1:\n",
    "                MSB1 = b\n",
    "                checksum += int(b)\n",
    "            elif i == 322:\n",
    "                checksumfromb = b | 0x80\n",
    "            else:\n",
    "                if i % 2 == 0:\n",
    "                    LSB.append(b)\n",
    "                else:\n",
    "                    MSB.append(b)\n",
    "                checksum += int(b)\n",
    "\n",
    "        if checksum // 256 >= 1:\n",
    "            checksum = checksum % 256\n",
    "        # if checksum == checksumfromb:\n",
    "        DATA.append([ struct.pack('d',((MSB[i] & 0x7F) << 7) | (LSB[i] & 0x7F)) for i, M in enumerate(MSB)])\n",
    "\n",
    "recv_serial_thread = Thread(target=recv_serial, args=[\"/dev/ttyACM0\"])\n",
    "recv_serial_thread.start()\n",
    "\n",
    "\n",
    "while True:\n",
    "    if not len(DATA) == 0:\n",
    "        data = DATA.pop(0)\n",
    "        del DATA[:]\n",
    "        for b in data:\n",
    "            conn.send(b)\n"
   ]
  },
  {
   "cell_type": "code",
   "execution_count": null,
   "metadata": {},
   "outputs": [],
   "source": []
  }
 ],
 "metadata": {
  "kernelspec": {
   "display_name": "Python 3",
   "language": "python",
   "name": "python3"
  },
  "language_info": {
   "codemirror_mode": {
    "name": "ipython",
    "version": 3
   },
   "file_extension": ".py",
   "mimetype": "text/x-python",
   "name": "python",
   "nbconvert_exporter": "python",
   "pygments_lexer": "ipython3",
   "version": "3.7.3"
  }
 },
 "nbformat": 4,
 "nbformat_minor": 2
}
